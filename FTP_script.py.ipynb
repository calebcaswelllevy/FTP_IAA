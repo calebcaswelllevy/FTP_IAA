{
 "cells": [
  {
   "cell_type": "code",
   "execution_count": 11,
   "id": "450b4b66",
   "metadata": {},
   "outputs": [],
   "source": [
    "import subprocess\n",
    "import sys\n",
    "import os\n",
    "\n",
    "def install(package) -> None:\n",
    "    '''\n",
    "    Helper function to install packages that are not in the runtime environment yet\n",
    "    '''\n",
    "    subprocess.check_call([sys.executable, \"-m\", \"pip\", \"install\", package])\n",
    "\n",
    "import re\n",
    "import ftplib\n",
    "try:\n",
    "    from astropy.io import fits\n",
    "except:\n",
    "    install('astropy')\n",
    "    from astropy.io import fits\n",
    "    \n",
    "from helperFunctions import *\n"
   ]
  },
  {
   "cell_type": "markdown",
   "id": "6b691a35",
   "metadata": {},
   "source": [
    "## Change User name and password:\n",
    "This is the ftp login information and address"
   ]
  },
  {
   "cell_type": "code",
   "execution_count": 12,
   "id": "cc05fb82",
   "metadata": {},
   "outputs": [],
   "source": [
    "######################################\n",
    "#      Your values here:\n",
    "user_name = \"\"\n",
    "password = \"\"\n",
    "address =  \"ftp.caha.es\"\n",
    "#\n",
    "#######################################"
   ]
  },
  {
   "cell_type": "markdown",
   "id": "27c2e025",
   "metadata": {},
   "source": [
    "## Establish an FTP connection to the address supplied above:"
   ]
  },
  {
   "cell_type": "code",
   "execution_count": 13,
   "id": "872e8ff1",
   "metadata": {},
   "outputs": [
    {
     "ename": "gaierror",
     "evalue": "[Errno 8] nodename nor servname provided, or not known",
     "output_type": "error",
     "traceback": [
      "\u001b[0;31m---------------------------------------------------------------------------\u001b[0m",
      "\u001b[0;31mgaierror\u001b[0m                                  Traceback (most recent call last)",
      "Input \u001b[0;32mIn [13]\u001b[0m, in \u001b[0;36m<cell line: 1>\u001b[0;34m()\u001b[0m\n\u001b[0;32m----> 1\u001b[0m ftp \u001b[38;5;241m=\u001b[39m \u001b[43mftplib\u001b[49m\u001b[38;5;241;43m.\u001b[39;49m\u001b[43mFTP\u001b[49m\u001b[43m(\u001b[49m\u001b[43maddress\u001b[49m\u001b[43m)\u001b[49m\n\u001b[1;32m      2\u001b[0m \u001b[38;5;28;01mtry\u001b[39;00m:\n\u001b[1;32m      3\u001b[0m     ftp\u001b[38;5;241m.\u001b[39mlogin(user_name, password)\n",
      "File \u001b[0;32m/usr/local/Cellar/python@3.9/3.9.12/Frameworks/Python.framework/Versions/3.9/lib/python3.9/ftplib.py:121\u001b[0m, in \u001b[0;36mFTP.__init__\u001b[0;34m(self, host, user, passwd, acct, timeout, source_address, encoding)\u001b[0m\n\u001b[1;32m    119\u001b[0m \u001b[38;5;28mself\u001b[39m\u001b[38;5;241m.\u001b[39mtimeout \u001b[38;5;241m=\u001b[39m timeout\n\u001b[1;32m    120\u001b[0m \u001b[38;5;28;01mif\u001b[39;00m host:\n\u001b[0;32m--> 121\u001b[0m     \u001b[38;5;28;43mself\u001b[39;49m\u001b[38;5;241;43m.\u001b[39;49m\u001b[43mconnect\u001b[49m\u001b[43m(\u001b[49m\u001b[43mhost\u001b[49m\u001b[43m)\u001b[49m\n\u001b[1;32m    122\u001b[0m     \u001b[38;5;28;01mif\u001b[39;00m user:\n\u001b[1;32m    123\u001b[0m         \u001b[38;5;28mself\u001b[39m\u001b[38;5;241m.\u001b[39mlogin(user, passwd, acct)\n",
      "File \u001b[0;32m/usr/local/Cellar/python@3.9/3.9.12/Frameworks/Python.framework/Versions/3.9/lib/python3.9/ftplib.py:158\u001b[0m, in \u001b[0;36mFTP.connect\u001b[0;34m(self, host, port, timeout, source_address)\u001b[0m\n\u001b[1;32m    156\u001b[0m     \u001b[38;5;28mself\u001b[39m\u001b[38;5;241m.\u001b[39msource_address \u001b[38;5;241m=\u001b[39m source_address\n\u001b[1;32m    157\u001b[0m sys\u001b[38;5;241m.\u001b[39maudit(\u001b[38;5;124m\"\u001b[39m\u001b[38;5;124mftplib.connect\u001b[39m\u001b[38;5;124m\"\u001b[39m, \u001b[38;5;28mself\u001b[39m, \u001b[38;5;28mself\u001b[39m\u001b[38;5;241m.\u001b[39mhost, \u001b[38;5;28mself\u001b[39m\u001b[38;5;241m.\u001b[39mport)\n\u001b[0;32m--> 158\u001b[0m \u001b[38;5;28mself\u001b[39m\u001b[38;5;241m.\u001b[39msock \u001b[38;5;241m=\u001b[39m \u001b[43msocket\u001b[49m\u001b[38;5;241;43m.\u001b[39;49m\u001b[43mcreate_connection\u001b[49m\u001b[43m(\u001b[49m\u001b[43m(\u001b[49m\u001b[38;5;28;43mself\u001b[39;49m\u001b[38;5;241;43m.\u001b[39;49m\u001b[43mhost\u001b[49m\u001b[43m,\u001b[49m\u001b[43m \u001b[49m\u001b[38;5;28;43mself\u001b[39;49m\u001b[38;5;241;43m.\u001b[39;49m\u001b[43mport\u001b[49m\u001b[43m)\u001b[49m\u001b[43m,\u001b[49m\u001b[43m \u001b[49m\u001b[38;5;28;43mself\u001b[39;49m\u001b[38;5;241;43m.\u001b[39;49m\u001b[43mtimeout\u001b[49m\u001b[43m,\u001b[49m\n\u001b[1;32m    159\u001b[0m \u001b[43m                                     \u001b[49m\u001b[43msource_address\u001b[49m\u001b[38;5;241;43m=\u001b[39;49m\u001b[38;5;28;43mself\u001b[39;49m\u001b[38;5;241;43m.\u001b[39;49m\u001b[43msource_address\u001b[49m\u001b[43m)\u001b[49m\n\u001b[1;32m    160\u001b[0m \u001b[38;5;28mself\u001b[39m\u001b[38;5;241m.\u001b[39maf \u001b[38;5;241m=\u001b[39m \u001b[38;5;28mself\u001b[39m\u001b[38;5;241m.\u001b[39msock\u001b[38;5;241m.\u001b[39mfamily\n\u001b[1;32m    161\u001b[0m \u001b[38;5;28mself\u001b[39m\u001b[38;5;241m.\u001b[39mfile \u001b[38;5;241m=\u001b[39m \u001b[38;5;28mself\u001b[39m\u001b[38;5;241m.\u001b[39msock\u001b[38;5;241m.\u001b[39mmakefile(\u001b[38;5;124m'\u001b[39m\u001b[38;5;124mr\u001b[39m\u001b[38;5;124m'\u001b[39m, encoding\u001b[38;5;241m=\u001b[39m\u001b[38;5;28mself\u001b[39m\u001b[38;5;241m.\u001b[39mencoding)\n",
      "File \u001b[0;32m/usr/local/Cellar/python@3.9/3.9.12/Frameworks/Python.framework/Versions/3.9/lib/python3.9/socket.py:823\u001b[0m, in \u001b[0;36mcreate_connection\u001b[0;34m(address, timeout, source_address)\u001b[0m\n\u001b[1;32m    821\u001b[0m host, port \u001b[38;5;241m=\u001b[39m address\n\u001b[1;32m    822\u001b[0m err \u001b[38;5;241m=\u001b[39m \u001b[38;5;28;01mNone\u001b[39;00m\n\u001b[0;32m--> 823\u001b[0m \u001b[38;5;28;01mfor\u001b[39;00m res \u001b[38;5;129;01min\u001b[39;00m \u001b[43mgetaddrinfo\u001b[49m\u001b[43m(\u001b[49m\u001b[43mhost\u001b[49m\u001b[43m,\u001b[49m\u001b[43m \u001b[49m\u001b[43mport\u001b[49m\u001b[43m,\u001b[49m\u001b[43m \u001b[49m\u001b[38;5;241;43m0\u001b[39;49m\u001b[43m,\u001b[49m\u001b[43m \u001b[49m\u001b[43mSOCK_STREAM\u001b[49m\u001b[43m)\u001b[49m:\n\u001b[1;32m    824\u001b[0m     af, socktype, proto, canonname, sa \u001b[38;5;241m=\u001b[39m res\n\u001b[1;32m    825\u001b[0m     sock \u001b[38;5;241m=\u001b[39m \u001b[38;5;28;01mNone\u001b[39;00m\n",
      "File \u001b[0;32m/usr/local/Cellar/python@3.9/3.9.12/Frameworks/Python.framework/Versions/3.9/lib/python3.9/socket.py:954\u001b[0m, in \u001b[0;36mgetaddrinfo\u001b[0;34m(host, port, family, type, proto, flags)\u001b[0m\n\u001b[1;32m    951\u001b[0m \u001b[38;5;66;03m# We override this function since we want to translate the numeric family\u001b[39;00m\n\u001b[1;32m    952\u001b[0m \u001b[38;5;66;03m# and socket type values to enum constants.\u001b[39;00m\n\u001b[1;32m    953\u001b[0m addrlist \u001b[38;5;241m=\u001b[39m []\n\u001b[0;32m--> 954\u001b[0m \u001b[38;5;28;01mfor\u001b[39;00m res \u001b[38;5;129;01min\u001b[39;00m \u001b[43m_socket\u001b[49m\u001b[38;5;241;43m.\u001b[39;49m\u001b[43mgetaddrinfo\u001b[49m\u001b[43m(\u001b[49m\u001b[43mhost\u001b[49m\u001b[43m,\u001b[49m\u001b[43m \u001b[49m\u001b[43mport\u001b[49m\u001b[43m,\u001b[49m\u001b[43m \u001b[49m\u001b[43mfamily\u001b[49m\u001b[43m,\u001b[49m\u001b[43m \u001b[49m\u001b[38;5;28;43mtype\u001b[39;49m\u001b[43m,\u001b[49m\u001b[43m \u001b[49m\u001b[43mproto\u001b[49m\u001b[43m,\u001b[49m\u001b[43m \u001b[49m\u001b[43mflags\u001b[49m\u001b[43m)\u001b[49m:\n\u001b[1;32m    955\u001b[0m     af, socktype, proto, canonname, sa \u001b[38;5;241m=\u001b[39m res\n\u001b[1;32m    956\u001b[0m     addrlist\u001b[38;5;241m.\u001b[39mappend((_intenum_converter(af, AddressFamily),\n\u001b[1;32m    957\u001b[0m                      _intenum_converter(socktype, SocketKind),\n\u001b[1;32m    958\u001b[0m                      proto, canonname, sa))\n",
      "\u001b[0;31mgaierror\u001b[0m: [Errno 8] nodename nor servname provided, or not known"
     ]
    }
   ],
   "source": [
    "ftp = ftplib.FTP(address)\n",
    "try:\n",
    "    ftp.login(user_name, password)\n",
    "except:\n",
    "    print(\"ERROR: login authentification failed\")\n"
   ]
  },
  {
   "cell_type": "code",
   "execution_count": null,
   "id": "45da564c",
   "metadata": {},
   "outputs": [],
   "source": [
    "ftp.pwd()\n",
    "ftp.retrlines('LIST') \n",
    "files = ftp.dir()\n",
    "print(files)"
   ]
  },
  {
   "cell_type": "markdown",
   "id": "0dc8758a",
   "metadata": {},
   "source": [
    "## Define regular expression matching *-vis_A.fits, *-vis_B.fits, nir_A.fits, nir_B.fits:\n",
    "\n",
    "Modify the 'target' variable to match different patterns:"
   ]
  },
  {
   "cell_type": "code",
   "execution_count": null,
   "id": "a6894be2",
   "metadata": {},
   "outputs": [],
   "source": [
    "#Regular Expression to match pattern:\n",
    "target = '.+-(vis|nir)_[AB].fits$'\n"
   ]
  },
  {
   "cell_type": "markdown",
   "id": "a283963e",
   "metadata": {},
   "source": [
    "## Search a remote directory for files containing the 'target' string and retrieve them:\n",
    "\n",
    "Modify the 'folder' variable to search different directories:"
   ]
  },
  {
   "cell_type": "code",
   "execution_count": null,
   "id": "c73e1876",
   "metadata": {},
   "outputs": [],
   "source": [
    "########################################\n",
    "#      Insert directory to search here:\n",
    "folder = './Example_Directory/' \n",
    "#\n",
    "######################################\n",
    "\n",
    "#list of files matching target regex contained in remote folder:\n",
    "files = get_file_names(ftp, folder, target)\n",
    "\n",
    "#retrieve matching files:\n",
    "retrieve(ftp, files)\n",
    "\n",
    "\n",
    "\n"
   ]
  },
  {
   "cell_type": "markdown",
   "id": "1a877486",
   "metadata": {},
   "source": [
    "## To get variables from all matched files:\n",
    "\n",
    "Modify 'target_variables' list to desired keyword names. 'target_variables' should be a list, even if only one variable is to be extracted.\n",
    "\n",
    "This will search all the found files. If only a specific subset of files is to be searched, use the next cell."
   ]
  },
  {
   "cell_type": "code",
   "execution_count": null,
   "id": "e86f2f5e",
   "metadata": {},
   "outputs": [],
   "source": [
    "###########################################\n",
    "#    Change This to the desired keyword variables:\n",
    "target_variables = ['EXAMPLE', 'EXAMPLE2', 'etc']\n",
    "target_variables = ['HIERARCH CARACAL FOX SNR 7', 'HIERARCH CARACAL FOX SNR 4']\n",
    "\n",
    "\n",
    "#\n",
    "###########################################\n",
    "\n",
    "#initialize the data list:\n",
    "extracted_data = []\n",
    "\n",
    "#get file names:\n",
    "matched_files = os.listdir(\"./retrieved_fits_files/\")\n",
    "\n",
    "#extract target variable from header of each fits file:\n",
    "for index, variable in enumerate(target_variables):\n",
    "    extracted_data.append([])\n",
    "    [extracted_data[index].append(extract_data_from_fits_header(file, variable)) for file in matched_files]\n",
    "    \n",
    "print(extracted_data)\n",
    "\n"
   ]
  },
  {
   "cell_type": "markdown",
   "id": "f49b21af",
   "metadata": {},
   "source": [
    "## To get variables from only one or several matched files:\n",
    "\n",
    "Modify 'target_variables' list to desired keyword names. 'target_variables' should be a list, even if only one variable is to be extracted.\n",
    "\n",
    "Modify the 'target_files' list to change which files to search. Similarly, it should also be a list even if only one file is to be searched."
   ]
  },
  {
   "cell_type": "code",
   "execution_count": null,
   "id": "94115257",
   "metadata": {},
   "outputs": [],
   "source": [
    "###########################################\n",
    "#    Change This to the desired keyword variables:\n",
    "target_variables = ['HIERARCH CARACAL FOX SNR 7', 'HIERARCH CARACAL FOX SNR 4']\n",
    "#\n",
    "###########################################\n",
    "\n",
    "###########################################\n",
    "#    Add file names you want to access to the list:\n",
    "target_files = ['example_file_1.fits', 'example_file_2.fits'] \n",
    "#\n",
    "###########################################\n",
    "\n",
    "#initialize the data list:\n",
    "extracted_data = []\n",
    "\n",
    "#extract target variable from header of each fits file:\n",
    "for index, variable in enumerate(target_variables):\n",
    "    extracted_data.append([])\n",
    "    [extracted_data[index].append(extract_data_from_fits_header(file, variable)) for file in target_files]\n",
    "    \n",
    "print(extracted_data)\n",
    "\n",
    "\n"
   ]
  },
  {
   "cell_type": "markdown",
   "id": "939b94a2",
   "metadata": {},
   "source": [
    "## Save the data in CSV format:\n",
    "\n",
    "This will take the variables extracted by the previous cells and save them in a csv file with KEYWORDs as column names in the header row. Change the 'output_file' variable if you want to save the csv to a different filename."
   ]
  },
  {
   "cell_type": "code",
   "execution_count": null,
   "id": "a3df0839",
   "metadata": {},
   "outputs": [],
   "source": [
    "##########################################\n",
    "# Modify this variable if another output filename is needed:\n",
    "output_file = 'output.csv'\n",
    "#\n",
    "##########################################\n",
    "\n",
    "\n",
    "\n",
    "with open(output_file, 'w') as file:\n",
    "    #get number of variables:\n",
    "    num_vars = len(target_variables)-1\n",
    "    #write header column with var names\n",
    "    [file.write(f'{variable},') for index, variable in enumerate(target_variables) if index < num_vars]\n",
    "    #write last column with newline:\n",
    "    file.write(f'{target_variables[num_vars]}\\n')\n",
    "    #write each line, ending with newline instead of comma:\n",
    "    for line_number in range(len(extracted_data[0])):\n",
    "        [file.write(f'{variable[line_number]},') for index, variable in enumerate(extracted_data) if index < num_vars]\n",
    "        file.write(f'{extracted_data[num_vars][line_number]}\\n')\n",
    "\n"
   ]
  },
  {
   "cell_type": "markdown",
   "id": "3b8619f9",
   "metadata": {},
   "source": [
    "# Plotting the data\n",
    "\n",
    "## Import plotting packages"
   ]
  },
  {
   "cell_type": "code",
   "execution_count": null,
   "id": "72cf38f4",
   "metadata": {},
   "outputs": [],
   "source": [
    "#if packages are not installed, install them first them import\n",
    "try:\n",
    "    import matplotlib.pyplot as plt\n",
    "except:\n",
    "    install('matplotlib')\n",
    "    import matplotlib\n",
    "\n",
    "try:\n",
    "    import seaborn as sns\n",
    "except:\n",
    "    install('seaborn')\n",
    "    import seaborn\n",
    "    \n",
    "try:\n",
    "    import numpy\n",
    "except:\n",
    "    install('numpy')\n",
    "    import numpy\n",
    "\n",
    "try:\n",
    "    import pandas as pd\n",
    "except:\n",
    "    install('pandas')\n",
    "    import pandas as pd\n",
    "    \n",
    "%matplotlib inline"
   ]
  },
  {
   "cell_type": "markdown",
   "id": "f6a7c831",
   "metadata": {},
   "source": [
    "## Read in the csv:"
   ]
  },
  {
   "cell_type": "code",
   "execution_count": null,
   "id": "b6ce9d1a",
   "metadata": {},
   "outputs": [],
   "source": [
    "#######################################\n",
    "# Change the data_file to the desired csv file\n",
    "data_file = 'output.csv'\n",
    "#\n",
    "#######################################\n",
    "\n",
    "#read in the data\n",
    "df = pd.read_csv(data_file)"
   ]
  },
  {
   "cell_type": "markdown",
   "id": "efb0e337",
   "metadata": {},
   "source": [
    "## Set plot parameters"
   ]
  },
  {
   "cell_type": "code",
   "execution_count": null,
   "id": "416ee135",
   "metadata": {},
   "outputs": [],
   "source": [
    "#######################################\n",
    "#\n",
    "# Change the variables to the desired variable names\n",
    "x_variable_name = 'Variable_1'\n",
    "y_variable_name = 'Variable_2'\n",
    "\n",
    "# Change these plotting parameters to the desired values:\n",
    "plot_style = 'whitegrid'\n",
    "title = 'PLOT TITLE'\n",
    "x_axis_label = x_variable_name\n",
    "y_axis_label = y_variable_name\n",
    "figure_size = (8, 8)\n",
    "#\n",
    "#######################################\n",
    "\n",
    "#set plot style\n",
    "sns.set_style(plot_style)\n",
    "\n",
    "#set x and y vars\n",
    "x_variable = df[x_variable_name]\n",
    "y_variable = df[y_variable_name]\n"
   ]
  },
  {
   "cell_type": "markdown",
   "id": "c98d6917",
   "metadata": {},
   "source": [
    "## Create the plot:"
   ]
  },
  {
   "cell_type": "code",
   "execution_count": null,
   "id": "90a71979",
   "metadata": {},
   "outputs": [],
   "source": []
  },
  {
   "cell_type": "markdown",
   "id": "de3b02eb",
   "metadata": {},
   "source": [
    "## Show the plot:"
   ]
  },
  {
   "cell_type": "code",
   "execution_count": null,
   "id": "464b5017",
   "metadata": {},
   "outputs": [],
   "source": [
    "\n"
   ]
  },
  {
   "cell_type": "markdown",
   "id": "852e47d2",
   "metadata": {},
   "source": [
    "## Save the plot to pdf:"
   ]
  },
  {
   "cell_type": "code",
   "execution_count": null,
   "id": "567ceabb",
   "metadata": {},
   "outputs": [],
   "source": []
  }
 ],
 "metadata": {
  "kernelspec": {
   "display_name": "Python 3 (ipykernel)",
   "language": "python",
   "name": "python3"
  },
  "language_info": {
   "codemirror_mode": {
    "name": "ipython",
    "version": 3
   },
   "file_extension": ".py",
   "mimetype": "text/x-python",
   "name": "python",
   "nbconvert_exporter": "python",
   "pygments_lexer": "ipython3",
   "version": "3.9.12"
  }
 },
 "nbformat": 4,
 "nbformat_minor": 5
}
