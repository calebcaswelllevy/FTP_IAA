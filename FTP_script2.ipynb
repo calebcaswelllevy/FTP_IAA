{
 "cells": [
  {
   "cell_type": "code",
   "execution_count": 32,
   "id": "6b10ff69",
   "metadata": {},
   "outputs": [
    {
     "name": "stderr",
     "output_type": "stream",
     "text": [
      "DEPRECATION: Configuring installation scheme with distutils config files is deprecated and will no longer work in the near future. If you are using a Homebrew or Linuxbrew Python, please see discussion at https://github.com/Homebrew/homebrew-core/issues/76621\n"
     ]
    },
    {
     "name": "stdout",
     "output_type": "stream",
     "text": [
      "Collecting astropy\n",
      "  Using cached astropy-5.1-cp39-cp39-macosx_10_9_x86_64.whl (6.9 MB)\n",
      "Requirement already satisfied: packaging>=19.0 in /usr/local/lib/python3.9/site-packages (from astropy) (21.3)\n",
      "Collecting pyerfa>=2.0\n",
      "  Using cached pyerfa-2.0.0.1-cp39-cp39-macosx_10_9_x86_64.whl (340 kB)\n",
      "Collecting PyYAML>=3.13\n",
      "  Using cached PyYAML-6.0-cp39-cp39-macosx_10_9_x86_64.whl (197 kB)\n",
      "Requirement already satisfied: numpy>=1.18 in /usr/local/lib/python3.9/site-packages (from astropy) (1.22.4)\n",
      "Requirement already satisfied: pyparsing!=3.0.5,>=2.0.2 in /usr/local/lib/python3.9/site-packages (from packaging>=19.0->astropy) (3.0.9)\n",
      "Installing collected packages: PyYAML, pyerfa, astropy\n"
     ]
    },
    {
     "name": "stderr",
     "output_type": "stream",
     "text": [
      "  DEPRECATION: Configuring installation scheme with distutils config files is deprecated and will no longer work in the near future. If you are using a Homebrew or Linuxbrew Python, please see discussion at https://github.com/Homebrew/homebrew-core/issues/76621\n",
      "  DEPRECATION: Configuring installation scheme with distutils config files is deprecated and will no longer work in the near future. If you are using a Homebrew or Linuxbrew Python, please see discussion at https://github.com/Homebrew/homebrew-core/issues/76621\n",
      "  DEPRECATION: Configuring installation scheme with distutils config files is deprecated and will no longer work in the near future. If you are using a Homebrew or Linuxbrew Python, please see discussion at https://github.com/Homebrew/homebrew-core/issues/76621\n",
      "DEPRECATION: Configuring installation scheme with distutils config files is deprecated and will no longer work in the near future. If you are using a Homebrew or Linuxbrew Python, please see discussion at https://github.com/Homebrew/homebrew-core/issues/76621\n",
      "WARNING: There was an error checking the latest version of pip.\n"
     ]
    },
    {
     "name": "stdout",
     "output_type": "stream",
     "text": [
      "Successfully installed PyYAML-6.0 astropy-5.1 pyerfa-2.0.0.1\n"
     ]
    }
   ],
   "source": [
    "import subprocess\n",
    "import sys\n",
    "import os\n",
    "def install(package):\n",
    "    subprocess.check_call([sys.executable, \"-m\", \"pip\", \"install\", package])\n",
    "\n",
    "import matplotlib.pyplot as plt\n",
    "try:\n",
    "    import seaborn as sns\n",
    "except:\n",
    "    install('seaborn')\n",
    "    import seaborn\n",
    "import re\n",
    "import ftplib\n",
    "try:\n",
    "    from astropy.io import fits\n",
    "except:\n",
    "    install('astropy')\n",
    "    from astropy.io import fits\n",
    "    \n",
    "from helperFunctions import *\n",
    "%matplotlib inline"
   ]
  },
  {
   "cell_type": "markdown",
   "id": "c484209b",
   "metadata": {},
   "source": [
    "## Change User name and password:"
   ]
  },
  {
   "cell_type": "code",
   "execution_count": 5,
   "id": "53234319",
   "metadata": {},
   "outputs": [],
   "source": [
    "######################################\n",
    "#      Your values here:\n",
    "user_name = \"\"\n",
    "password = \"\"\n",
    "address =  \"ftp.caha.es\"\n",
    "#\n",
    "#######################################"
   ]
  },
  {
   "cell_type": "markdown",
   "id": "1f63659a",
   "metadata": {},
   "source": [
    "Establish an FTP connection to the address supplied above:"
   ]
  },
  {
   "cell_type": "code",
   "execution_count": 15,
   "id": "142bbd4c",
   "metadata": {},
   "outputs": [],
   "source": [
    "ftp = ftplib.FTP(address)\n",
    "try:\n",
    "    ftp.login(user_name, password)\n",
    "except:\n",
    "    print(\"ERROR: login authentification failed\")\n"
   ]
  },
  {
   "cell_type": "code",
   "execution_count": 19,
   "id": "a04bf2a5",
   "metadata": {},
   "outputs": [
    {
     "name": "stdout",
     "output_type": "stream",
     "text": [
      "None\n"
     ]
    }
   ],
   "source": [
    "ftp.pwd()\n",
    "ftp.retrlines('LIST') \n",
    "files = ftp.dir()\n",
    "print(files)"
   ]
  },
  {
   "cell_type": "markdown",
   "id": "c63ee36d",
   "metadata": {},
   "source": [
    "## Define regular expression matching *-vis_A.fits, *-vis_B.fits, nir_A.fits, nir_B.fits:"
   ]
  },
  {
   "cell_type": "code",
   "execution_count": 25,
   "id": "53f0a393",
   "metadata": {},
   "outputs": [],
   "source": [
    "#Regular Expression to match pattern:\n",
    "target = '.+-(vis|nir)_[AB].fits$'\n"
   ]
  },
  {
   "cell_type": "markdown",
   "id": "d645273e",
   "metadata": {},
   "source": [
    "## Search a remote directory for files containing the target string and retrieve them:"
   ]
  },
  {
   "cell_type": "code",
   "execution_count": null,
   "id": "6519dc20",
   "metadata": {},
   "outputs": [],
   "source": [
    "########################################\n",
    "#      Insert directory to search here:\n",
    "folder = './Example_Directory' \n",
    "#\n",
    "######################################\n",
    "\n",
    "\n",
    "files = get_file_names(ftp, folder, target)\n",
    "retrieve(ftp, files)\n",
    "\n",
    "\n",
    "\n"
   ]
  },
  {
   "cell_type": "markdown",
   "id": "b93a9d72",
   "metadata": {},
   "source": [
    "## To get a variable from all matched files:"
   ]
  },
  {
   "cell_type": "code",
   "execution_count": 34,
   "id": "73265c7f",
   "metadata": {},
   "outputs": [],
   "source": [
    "###########################################\n",
    "#    Change This to the desired header variable:\n",
    "target_variable = 'EXAMPLE' \n",
    "#\n",
    "###########################################\n",
    "\n",
    "#initialize the data list:\n",
    "extracted_data = []\n",
    "\n",
    "#get file names:\n",
    "matched_files = os.listdir(\"./retrieved_fits_files\")\n",
    "\n",
    "#extract target variable from header of each fits file:\n",
    "[extracted_data.append(extract_data_from_fits_header(file, variable)) for file in matched_files]\n",
    "    \n",
    "\n"
   ]
  },
  {
   "cell_type": "markdown",
   "id": "cbc60afe",
   "metadata": {},
   "source": [
    "## To get a variable from only one or several matched files:"
   ]
  },
  {
   "cell_type": "code",
   "execution_count": null,
   "id": "32aedfc3",
   "metadata": {},
   "outputs": [],
   "source": [
    "###########################################\n",
    "#    Change This to the desired header variable:\n",
    "target_variable = 'EXAMPLE' \n",
    "#\n",
    "###########################################\n",
    "\n",
    "###########################################\n",
    "#    Add file names you want to access to the list:\n",
    "target_files = ['example_file_1.fits', 'example_file_2.fits'] \n",
    "#\n",
    "###########################################\n",
    "\n",
    "#initialize the data list:\n",
    "extracted_data = []\n",
    "\n",
    "#extract target variable from header of each fits file:\n",
    "[extracted_data.append(extract_data_from_fits_header(file, variable)) for file in target_files]\n",
    "    \n",
    "\n",
    "\n",
    "\n"
   ]
  },
  {
   "cell_type": "markdown",
   "id": "73f64a1c",
   "metadata": {},
   "source": [
    "## Plot the data:"
   ]
  },
  {
   "cell_type": "code",
   "execution_count": null,
   "id": "8b460e0e",
   "metadata": {},
   "outputs": [],
   "source": [
    "sns.set_theme(style=\"whitegrid\")\n",
    "# For a scatterplot uncomment this and fill in the correct variables:\n",
    "'''\n",
    "sns.scatterplot(x = YOUR_X_VARIABLE_HERE, \n",
    "                    y = YOUR_Y_VARIABLE_HERE)\n",
    "'''\n"
   ]
  }
 ],
 "metadata": {
  "kernelspec": {
   "display_name": "Python 3 (ipykernel)",
   "language": "python",
   "name": "python3"
  },
  "language_info": {
   "codemirror_mode": {
    "name": "ipython",
    "version": 3
   },
   "file_extension": ".py",
   "mimetype": "text/x-python",
   "name": "python",
   "nbconvert_exporter": "python",
   "pygments_lexer": "ipython3",
   "version": "3.9.12"
  }
 },
 "nbformat": 4,
 "nbformat_minor": 5
}
